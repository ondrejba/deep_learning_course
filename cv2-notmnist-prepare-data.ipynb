{
 "cells": [
  {
   "cell_type": "markdown",
   "metadata": {
    "collapsed": true
   },
   "source": [
    "# Prepare the notMNIST dataset #"
   ]
  },
  {
   "cell_type": "markdown",
   "metadata": {},
   "source": [
    "We thank the authors of this [Udacity tutorial](https://github.com/tensorflow/tensorflow/tree/master/tensorflow/examples/udacity) which was the main inspiration for this tutorial. We have reused some of their code snippets."
   ]
  },
  {
   "cell_type": "markdown",
   "metadata": {},
   "source": [
    "**Import** all packages that will be used."
   ]
  },
  {
   "cell_type": "code",
   "execution_count": null,
   "metadata": {},
   "outputs": [],
   "source": [
    "import os, sys, tarfile, pickle\n",
    "from six.moves.urllib.request import urlretrieve\n",
    "import numpy as np\n",
    "from scipy import ndimage\n",
    "from IPython.display import display, Image\n",
    "import matplotlib.pyplot as plt"
   ]
  },
  {
   "cell_type": "markdown",
   "metadata": {},
   "source": [
    "**Download** the dataset."
   ]
  },
  {
   "cell_type": "code",
   "execution_count": null,
   "metadata": {},
   "outputs": [],
   "source": [
    "url = 'https://commondatastorage.googleapis.com/books1000/'\n",
    "last_percent_reported = None\n",
    "data_root = 'data/notMNIST'\n",
    "\n",
    "# make sure the dataset directory exists\n",
    "if not os.path.isdir(data_root):\n",
    "  os.makedirs(data_root)\n",
    "\n",
    "def download_progress_hook(count, blockSize, totalSize):\n",
    "  \"\"\"A hook to report the progress of a download. This is mostly intended for users with\n",
    "  slow internet connections. Reports every 5% change in download progress.\n",
    "  \"\"\"\n",
    "  global last_percent_reported\n",
    "  percent = int(count * blockSize * 100 / totalSize)\n",
    "\n",
    "  if last_percent_reported != percent:\n",
    "    if percent % 5 == 0:\n",
    "      sys.stdout.write(\"%s%%\" % percent)\n",
    "      sys.stdout.flush()\n",
    "    else:\n",
    "      sys.stdout.write(\".\")\n",
    "      sys.stdout.flush()\n",
    "      \n",
    "    last_percent_reported = percent\n",
    "        \n",
    "def maybe_download(filename, expected_bytes, force=False):\n",
    "  \"\"\"Download a file if not present, and make sure it's the right size.\"\"\"\n",
    "  dest_filename = os.path.join(data_root, filename)\n",
    "  if force or not os.path.exists(dest_filename):\n",
    "    print('Attempting to download:', filename) \n",
    "    filename, _ = urlretrieve(url + filename, dest_filename, reporthook=download_progress_hook)\n",
    "    print('\\nDownload Complete!')\n",
    "  statinfo = os.stat(dest_filename)\n",
    "  if statinfo.st_size == expected_bytes:\n",
    "    print('Found and verified', dest_filename)\n",
    "  else:\n",
    "    raise Exception(\n",
    "      'Failed to verify ' + dest_filename + '. Can you get to it with a browser?')\n",
    "  return dest_filename\n",
    "\n",
    "train_filename = maybe_download('notMNIST_large.tar.gz', 247336696)\n",
    "test_filename = maybe_download('notMNIST_small.tar.gz', 8458043)"
   ]
  },
  {
   "cell_type": "markdown",
   "metadata": {},
   "source": [
    "The dataset was downloaded as two tarballs. **Extract** both of them."
   ]
  },
  {
   "cell_type": "code",
   "execution_count": null,
   "metadata": {},
   "outputs": [],
   "source": [
    "num_classes = 10\n",
    "np.random.seed(133)\n",
    "\n",
    "def maybe_extract(filename, force=False):\n",
    "  root = os.path.splitext(os.path.splitext(filename)[0])[0]  # remove .tar.gz\n",
    "  if os.path.isdir(root) and not force:\n",
    "    # You may override by setting force=True.\n",
    "    print('%s already present - Skipping extraction of %s.' % (root, filename))\n",
    "  else:\n",
    "    print('Extracting data for %s. This may take a while. Please wait.' % root)\n",
    "    tar = tarfile.open(filename)\n",
    "    sys.stdout.flush()\n",
    "    tar.extractall(data_root)\n",
    "    tar.close()\n",
    "  data_folders = [\n",
    "    os.path.join(root, d) for d in sorted(os.listdir(root))\n",
    "    if os.path.isdir(os.path.join(root, d))]\n",
    "  if len(data_folders) != num_classes:\n",
    "    raise Exception(\n",
    "      'Expected %d folders, one per class. Found %d instead.' % (\n",
    "        num_classes, len(data_folders)))\n",
    "  print(data_folders)\n",
    "  return data_folders\n",
    "  \n",
    "train_folders = maybe_extract(train_filename)\n",
    "test_folders = maybe_extract(test_filename)"
   ]
  },
  {
   "cell_type": "markdown",
   "metadata": {},
   "source": [
    "**Load all images** and create a single Tensor for each letter. For example, there are about 53000 pictures of letter A in the dataset from which we will choose 10000 - the script will create a single Tensor of dimensions (10000, 28, 28), where 28 is both the width and height of each image. Due to memory constraints, we will save each Tensor into a [pickle](https://docs.python.org/3/library/pickle.html)."
   ]
  },
  {
   "cell_type": "code",
   "execution_count": null,
   "metadata": {},
   "outputs": [],
   "source": [
    "image_size = 28                             # pixel width and height\n",
    "\n",
    "train_per_class = 4500                      # number of training images for each class\n",
    "valid_per_class = 250                       # number of validation images for each class\n",
    "test_per_class = 250                        # number of testing images for each class\n",
    "\n",
    "total_per_class = train_per_class + valid_per_class + test_per_class\n",
    "\n",
    "letters = [\"A\", \"B\", \"C\", \"D\"]              # letter to load\n",
    "\n",
    "def load_letter(folder, max_images):\n",
    "\n",
    "  image_files = os.listdir(folder)\n",
    "  max_images = min(max_images, len(image_files))\n",
    "  dataset = np.ndarray(shape=(max_images, image_size, image_size), dtype=np.float32)\n",
    "\n",
    "  num_images = 0\n",
    "  for image in image_files:\n",
    "    \n",
    "    if num_images >= max_images:\n",
    "      break\n",
    "    \n",
    "    image_file = os.path.join(folder, image)\n",
    "    try:\n",
    "      image_data = ndimage.imread(image_file)\n",
    "                    \n",
    "      if image_data.shape != (image_size, image_size):\n",
    "        raise Exception('Unexpected image shape: %s' % str(image_data.shape))\n",
    "      \n",
    "      dataset[num_images, :, :] = image_data\n",
    "      num_images = num_images + 1\n",
    "    except IOError as e:\n",
    "      pass\n",
    "    \n",
    "  dataset = dataset[:num_images, :, :]\n",
    "\n",
    "  return dataset\n",
    "        \n",
    "def maybe_pickle(data_folders, total_per_class, letters, force=False):\n",
    "\n",
    "  dataset = {}\n",
    "    \n",
    "  for folder in data_folders:\n",
    "\n",
    "    letter_name = folder.split(\"/\")[-1]\n",
    "\n",
    "    if letter_name in letters:\n",
    "      dataset[letter_name] = load_letter(folder, total_per_class)\n",
    "  \n",
    "  return dataset\n",
    "\n",
    "dataset = maybe_pickle(train_folders, total_per_class, letters)\n",
    "\n",
    "for key, item in dataset.items():\n",
    "    print(\"letter {:s}: {:d} samples\".format(key, item.shape[0]))\n",
    "    assert item.shape[0] == total_per_class"
   ]
  },
  {
   "cell_type": "markdown",
   "metadata": {},
   "source": [
    "**Create a subset** for training, validation and testing."
   ]
  },
  {
   "cell_type": "code",
   "execution_count": null,
   "metadata": {},
   "outputs": [],
   "source": [
    "labels = {letter: i for i, letter in enumerate(letters)}\n",
    "\n",
    "splits = {}\n",
    "for letter in letters:\n",
    "    splits[letter] = {}\n",
    "    \n",
    "    splits[letter][\"train\"] = dataset[letter][:train_per_class]\n",
    "    splits[letter][\"valid\"] = dataset[letter][train_per_class:train_per_class + valid_per_class]\n",
    "    splits[letter][\"test\"] = dataset[letter][train_per_class + valid_per_class:train_per_class + \n",
    "                                             valid_per_class + test_per_class]\n",
    "    \n",
    "train_data = np.concatenate([splits[letter][\"train\"] for letter in letters])\n",
    "train_labels = np.concatenate([np.zeros(splits[letter][\"train\"].shape[0]) + labels[letter] \n",
    "                               for letter in letters]).astype(np.int32)\n",
    "\n",
    "valid_data = np.concatenate([splits[letter][\"valid\"] for letter in letters])\n",
    "valid_labels = np.concatenate([np.zeros(splits[letter][\"valid\"].shape[0]) + labels[letter] \n",
    "                               for letter in letters]).astype(np.int32)\n",
    "\n",
    "test_data = np.concatenate([splits[letter][\"test\"] for letter in letters])\n",
    "test_labels = np.concatenate([np.zeros(splits[letter][\"test\"].shape[0]) + labels[letter] \n",
    "                              for letter in letters]).astype(np.int32)"
   ]
  },
  {
   "cell_type": "markdown",
   "metadata": {},
   "source": [
    "Make sure the letters were loaded correctly."
   ]
  },
  {
   "cell_type": "code",
   "execution_count": null,
   "metadata": {},
   "outputs": [],
   "source": [
    "print(\"left to right:\", letters)\n",
    "print(\"run again for different images\")\n",
    "\n",
    "from mpl_toolkits.axes_grid1 import ImageGrid\n",
    "\n",
    "index = np.random.randint(0, len(letters))\n",
    "\n",
    "fig = plt.figure(1, figsize=(10, 10))\n",
    "grid = ImageGrid(fig, 111, nrows_ncols=(1, 4), axes_pad=0.2)\n",
    "\n",
    "for i, letter in enumerate(letters):\n",
    "    grid[i].imshow(dataset[letter][index] / 255, interpolation=\"bilinear\", cmap=\"gray\")\n",
    "    grid[i].tick_params(axis='both', which='both', bottom='off', top='off', \n",
    "                    labelbottom='off', right='off', left='off', labelleft='off')\n",
    "\n",
    "plt.show()"
   ]
  },
  {
   "cell_type": "markdown",
   "metadata": {},
   "source": [
    "**Save** the preprocessed dataset."
   ]
  },
  {
   "cell_type": "code",
   "execution_count": null,
   "metadata": {},
   "outputs": [],
   "source": [
    "# save the dataset as a pickle\n",
    "pickle_file = os.path.join(data_root, 'notMNIST.pickle')\n",
    "\n",
    "try:\n",
    "  f = open(pickle_file, 'wb')\n",
    "  save = {\n",
    "    'train_dataset': train_data,\n",
    "    'train_labels': train_labels,\n",
    "    'valid_dataset': valid_data,\n",
    "    'valid_labels': valid_labels,\n",
    "    'test_dataset': test_data,\n",
    "    'test_labels': test_labels,\n",
    "    'labels': labels\n",
    "    }\n",
    "  pickle.dump(save, f, pickle.HIGHEST_PROTOCOL)\n",
    "  f.close()\n",
    "except Exception as e:\n",
    "  print('Unable to save data to', pickle_file, ':', e)\n",
    "  raise\n",
    "    \n",
    "statinfo = os.stat(pickle_file)\n",
    "print('Compressed pickle size:', statinfo.st_size)"
   ]
  }
 ],
 "metadata": {
  "kernelspec": {
   "display_name": "Python 3",
   "language": "python",
   "name": "python3"
  },
  "language_info": {
   "codemirror_mode": {
    "name": "ipython",
    "version": 3
   },
   "file_extension": ".py",
   "mimetype": "text/x-python",
   "name": "python",
   "nbconvert_exporter": "python",
   "pygments_lexer": "ipython3",
   "version": "3.6.3"
  }
 },
 "nbformat": 4,
 "nbformat_minor": 2
}
