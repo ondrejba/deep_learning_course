{
 "cells": [
  {
   "cell_type": "markdown",
   "metadata": {},
   "source": [
    "## Create animals dataset from CIFAR-10 ##"
   ]
  },
  {
   "cell_type": "markdown",
   "metadata": {},
   "source": [
    "This notebook generates the Animals dataset that is used in the third tutorial. We take images from CIFAR-10, an image classification benchmark dataset containing 10 different classes of images."
   ]
  },
  {
   "cell_type": "code",
   "execution_count": null,
   "metadata": {},
   "outputs": [],
   "source": [
    "import os, subprocess, urllib, pickle\n",
    "import numpy as np\n",
    "import matplotlib.pyplot as plt"
   ]
  },
  {
   "cell_type": "markdown",
   "metadata": {},
   "source": [
    "Download CIFAR-10 from [this URL](https://www.cs.toronto.edu/~kriz/cifar-10-python.tar.gz), decompress it and place it in the **data** directory."
   ]
  },
  {
   "cell_type": "code",
   "execution_count": null,
   "metadata": {},
   "outputs": [],
   "source": [
    "cifar_path = \"data/cifar-10-batches-py\"\n",
    "batch_prefix = \"data_batch_\"\n",
    "num_batches = 5"
   ]
  },
  {
   "cell_type": "markdown",
   "metadata": {},
   "source": [
    "Load the data files and reformat them."
   ]
  },
  {
   "cell_type": "code",
   "execution_count": null,
   "metadata": {},
   "outputs": [],
   "source": [
    "# taken from: https://www.cs.toronto.edu/~kriz/cifar.html\n",
    "def unpickle(file):\n",
    "    import pickle\n",
    "    with open(file, 'rb') as fo:\n",
    "        dict = pickle.load(fo, encoding='bytes')\n",
    "    return dict"
   ]
  },
  {
   "cell_type": "code",
   "execution_count": null,
   "metadata": {},
   "outputs": [],
   "source": [
    "batches = []\n",
    "\n",
    "for batch_idx in range(num_batches):\n",
    "    batch_path = os.path.join(cifar_path, \"{:s}{:d}\".format(batch_prefix, batch_idx + 1))\n",
    "    batches.append(unpickle(batch_path))"
   ]
  },
  {
   "cell_type": "code",
   "execution_count": null,
   "metadata": {},
   "outputs": [],
   "source": [
    "data = []\n",
    "labels = []\n",
    "\n",
    "for i in range(len(batches)):\n",
    "    data.append(batches[i][b\"data\"])\n",
    "    labels.append(batches[i][b\"labels\"])"
   ]
  },
  {
   "cell_type": "markdown",
   "metadata": {},
   "source": [
    "Extract images of cats, deers, dogs and horses (classes 3, 4, 5 and 7 in CIFAR-10)."
   ]
  },
  {
   "cell_type": "code",
   "execution_count": null,
   "metadata": {},
   "outputs": [],
   "source": [
    "cats = []\n",
    "deers = []\n",
    "dogs = []\n",
    "horses = []\n",
    "\n",
    "for i in range(len(batches)):\n",
    "    for j in range(len(labels[i])):\n",
    "        if labels[i][j] == 3:\n",
    "            cats.append(data[i][j])\n",
    "        elif labels[i][j] == 4:\n",
    "            deers.append(data[i][j])\n",
    "        elif labels[i][j] == 5:\n",
    "            dogs.append(data[i][j])\n",
    "        elif labels[i][j] == 7:\n",
    "            horses.append(data[i][j])\n",
    "            \n",
    "assert len(cats) == 5000\n",
    "assert len(deers) == 5000\n",
    "assert len(dogs) == 5000\n",
    "assert len(horses) == 5000"
   ]
  },
  {
   "cell_type": "markdown",
   "metadata": {},
   "source": [
    "Reformat images."
   ]
  },
  {
   "cell_type": "code",
   "execution_count": null,
   "metadata": {},
   "outputs": [],
   "source": [
    "def reformat_image(image):\n",
    "    new_image = np.zeros((32, 32, 3))\n",
    "    \n",
    "    red = image[:1024]\n",
    "    green = image[1024:2048]\n",
    "    blue = image[2048:]\n",
    "    \n",
    "    red = np.reshape(red, (32, 32))\n",
    "    green = np.reshape(green, (32, 32))\n",
    "    blue = np.reshape(blue, (32, 32))\n",
    "    \n",
    "    new_image[:, :, 0] = red\n",
    "    new_image[:, :, 1] = green\n",
    "    new_image[:, :, 2] = blue\n",
    "    \n",
    "    return new_image"
   ]
  },
  {
   "cell_type": "code",
   "execution_count": null,
   "metadata": {},
   "outputs": [],
   "source": [
    "for i in range(len(cats)):\n",
    "    cats[i] = reformat_image(cats[i])\n",
    "    deers[i] = reformat_image(deers[i])\n",
    "    dogs[i] = reformat_image(dogs[i])\n",
    "    horses[i] = reformat_image(horses[i])"
   ]
  },
  {
   "cell_type": "code",
   "execution_count": null,
   "metadata": {},
   "outputs": [],
   "source": [
    "cats = np.array(cats)\n",
    "deers = np.array(deers)\n",
    "dogs = np.array(dogs)\n",
    "horses = np.array(horses)"
   ]
  },
  {
   "cell_type": "markdown",
   "metadata": {},
   "source": [
    "Make sure the images were extracted correctly."
   ]
  },
  {
   "cell_type": "code",
   "execution_count": null,
   "metadata": {},
   "outputs": [],
   "source": [
    "print(\"left to right: cat, deer, dog, horse\")\n",
    "print(\"run again for different images\")\n",
    "\n",
    "from mpl_toolkits.axes_grid1 import ImageGrid\n",
    "\n",
    "index = np.random.randint(0, len(cats))\n",
    "\n",
    "fig = plt.figure(1, figsize=(10, 10))\n",
    "grid = ImageGrid(fig, 111, nrows_ncols=(1, 4), axes_pad=0.2)\n",
    "\n",
    "grid[0].imshow(cats[index] / 255, interpolation=\"bilinear\")\n",
    "grid[0].tick_params(axis='both', which='both', bottom='off', top='off', \n",
    "                labelbottom='off', right='off', left='off', labelleft='off')\n",
    "\n",
    "grid[1].imshow(deers[index] / 255, interpolation=\"bilinear\")\n",
    "grid[1].tick_params(axis='both', which='both', bottom='off', top='off', \n",
    "                labelbottom='off', right='off', left='off', labelleft='off')\n",
    "\n",
    "grid[2].imshow(dogs[index] / 255, interpolation=\"bilinear\")\n",
    "grid[2].tick_params(axis='both', which='both', bottom='off', top='off', \n",
    "                labelbottom='off', right='off', left='off', labelleft='off')\n",
    "\n",
    "grid[3].imshow(horses[index] / 255, interpolation=\"bilinear\")\n",
    "grid[3].tick_params(axis='both', which='both', bottom='off', top='off', \n",
    "                labelbottom='off', right='off', left='off', labelleft='off')\n",
    "\n",
    "plt.show()"
   ]
  },
  {
   "cell_type": "markdown",
   "metadata": {},
   "source": [
    "Create training, validation and testing subsets."
   ]
  },
  {
   "cell_type": "code",
   "execution_count": null,
   "metadata": {},
   "outputs": [],
   "source": [
    "train_size = 4500\n",
    "valid_size = 250\n",
    "test_size = 250"
   ]
  },
  {
   "cell_type": "code",
   "execution_count": null,
   "metadata": {},
   "outputs": [],
   "source": [
    "def create_splits(data):\n",
    "    train = data[:train_size]\n",
    "    valid = data[train_size:train_size + valid_size]\n",
    "    test = data[train_size + valid_size:train_size + valid_size + test_size]\n",
    "\n",
    "    assert len(train) == train_size\n",
    "    assert len(valid) == valid_size\n",
    "    assert len(test) == test_size\n",
    "    \n",
    "    return train, valid, test"
   ]
  },
  {
   "cell_type": "code",
   "execution_count": null,
   "metadata": {},
   "outputs": [],
   "source": [
    "train_cats, valid_cats, test_cats = create_splits(cats)\n",
    "train_deers, valid_deers, test_deers = create_splits(deers)\n",
    "train_dogs, valid_dogs, test_dogs = create_splits(dogs)\n",
    "train_horses, valid_horses, test_horses = create_splits(horses)"
   ]
  },
  {
   "cell_type": "markdown",
   "metadata": {},
   "source": [
    "Merge the animal pictures."
   ]
  },
  {
   "cell_type": "code",
   "execution_count": null,
   "metadata": {},
   "outputs": [],
   "source": [
    "labels = {\n",
    "    0: \"cat\",\n",
    "    1: \"deer\",\n",
    "    2: \"dog\",\n",
    "    3: \"horse\"\n",
    "}\n",
    "\n",
    "train_data = np.concatenate((train_cats, train_deers, train_dogs, train_horses))\n",
    "train_labels = np.concatenate(([0] * train_size, [1] * train_size, [2] * train_size, [3] * train_size))\n",
    "\n",
    "valid_data = np.concatenate((valid_cats, valid_deers, valid_dogs, valid_horses))\n",
    "valid_labels = np.concatenate(([0] * valid_size, [1] * valid_size, [2] * valid_size, [3] * valid_size))\n",
    "\n",
    "test_data = np.concatenate((test_cats, test_deers, test_dogs, test_horses))\n",
    "test_labels = np.concatenate(([0] * test_size, [1] * test_size, [2] * test_size, [3] * test_size))\n",
    "\n",
    "assert train_data.shape[0] == train_labels.shape[0]\n",
    "assert valid_data.shape[0] == valid_labels.shape[0]\n",
    "assert test_data.shape[0] == test_labels.shape[0]"
   ]
  },
  {
   "cell_type": "code",
   "execution_count": null,
   "metadata": {},
   "outputs": [],
   "source": [
    "dataset = {\n",
    "    \"train_data\": train_data,\n",
    "    \"train_labels\": train_labels,\n",
    "    \"valid_data\": valid_data,\n",
    "    \"valid_labels\": valid_labels,\n",
    "    \"test_data\": test_data,\n",
    "    \"test_labels\": test_labels,\n",
    "    \"labels\": labels\n",
    "}"
   ]
  },
  {
   "cell_type": "markdown",
   "metadata": {},
   "source": [
    "Save the new dataset."
   ]
  },
  {
   "cell_type": "code",
   "execution_count": null,
   "metadata": {},
   "outputs": [],
   "source": [
    "dataset_path = \"data/animals\"\n",
    "\n",
    "if not os.path.isdir(dataset_path):\n",
    "    os.makedirs(dataset_path)\n",
    "    \n",
    "with open(os.path.join(dataset_path, \"dataset.pickle\"), \"wb\") as file:\n",
    "    pickle.dump(dataset, file)"
   ]
  },
  {
   "cell_type": "markdown",
   "metadata": {},
   "source": [
    "(Optional) Nice visualization."
   ]
  },
  {
   "cell_type": "code",
   "execution_count": null,
   "metadata": {},
   "outputs": [],
   "source": [
    "from mpl_toolkits.axes_grid1 import ImageGrid\n",
    "\n",
    "fig = plt.figure(1, figsize=(7, 7))\n",
    "grid = ImageGrid(fig, 111, nrows_ncols=(4, 4), axes_pad=0.2)\n",
    "\n",
    "for i, images in enumerate([cats, deers, dogs, horses]):\n",
    "    for j in range(4):\n",
    "        index = np.random.randint(0, len(images))\n",
    "        \n",
    "        grid[i * 4 + j].imshow(images[index] / 255, interpolation=\"bessel\")\n",
    "        grid[i * 4 + j].tick_params(axis='both', which='both', bottom='off', top='off', \n",
    "                        labelbottom='off', right='off', left='off', labelleft='off')\n",
    "\n",
    "plt.savefig(os.path.join(dataset_path, \"animals.png\"), transparent=True,\n",
    "            bbox_inches=\"tight\", pad_inches=0.1)"
   ]
  }
 ],
 "metadata": {
  "kernelspec": {
   "display_name": "Python 3",
   "language": "python",
   "name": "python3"
  },
  "language_info": {
   "codemirror_mode": {
    "name": "ipython",
    "version": 3
   },
   "file_extension": ".py",
   "mimetype": "text/x-python",
   "name": "python",
   "nbconvert_exporter": "python",
   "pygments_lexer": "ipython3",
   "version": "3.6.3"
  }
 },
 "nbformat": 4,
 "nbformat_minor": 2
}
